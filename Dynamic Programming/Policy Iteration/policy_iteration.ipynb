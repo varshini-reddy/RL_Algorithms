{
    "metadata": {
        "kernelspec": {
            "name": "python3",
            "display_name": "Python 3",
            "language": "python"
        }
    },
    "nbformat": 4,
    "nbformat_minor": 4,
    "cells": [
        {
            "cell_type": "code",
            "execution_count": 29,
            "metadata": {},
            "outputs": [],
            "source": [
                "# Import necessary libraries\n",
                "\n",
                "import gym\n",
                "import numpy as np"
            ]
        },
        {
            "cell_type": "code",
            "execution_count": 30,
            "metadata": {},
            "outputs": [],
            "source": [
                "# Initialize the FrozenLake-v0 gym environment\n",
                "env = gym.make('FrozenLake-v0')\n",
                ""
            ]
        },
        {
            "cell_type": "code",
            "execution_count": 31,
            "metadata": {},
            "outputs": [
                {
                    "name": "stdout",
                    "output_type": "stream",
                    "text": "\n\u001b[41mS\u001b[0mFFF\nFHFH\nFFFH\nHFFG\n"
                }
            ],
            "source": [
                "# Take a quick look at the environment by calling the render function\n",
                "env.render()\n",
                ""
            ]
        },
        {
            "attachments": {},
            "cell_type": "markdown",
            "metadata": {},
            "source": [
                "### **POLICY EVALUATION**\n",
                "\u003cimg src=\"./images/policy_eval.png\" alt=\"Policy Evaluation\" style=\"width:700px\"\u003e"
            ]
        },
        {
            "cell_type": "code",
            "execution_count": 32,
            "metadata": {},
            "outputs": [],
            "source": [
                "# Function to compute the value function\n",
                "# This function takes as input the policy and discount factor\n",
                "\n",
                "def policy_evaluation(policy, gamma=1.0):\n",
                "    \n",
                "    # Initialize the value table with zeros\n",
                "    # The size of the value table is the equal to the number of states\n",
                "    value_table = np.zeros(env.observation_space.n)\n",
                "    \n",
                "    # Set the threshold\n",
                "    threshold = 1e-10\n",
                "    \n",
                "    # Initialize a loop\n",
                "    while True:\n",
                "        \n",
                "        # Save the value table to the updated_value_table\n",
                "        updated_value_table = value_table\n",
                "\n",
                "        # For each state in the environment, \n",
                "        # select the action according to the policy and compute the value table\n",
                "        for state in range(env.nS):\n",
                "            \n",
                "            # Get the action from the policy based on the state\n",
                "            action = policy[state]\n",
                "            \n",
                "            # For the selected action, compute the value function based on the equation in the instructions\n",
                "            value_table[state] = sum([trans_prob * (reward_prob + gamma * updated_value_table[next_state]) \n",
                "                        for trans_prob, next_state, reward_prob, _ in env.P[state][action]])\n",
                "            \n",
                "        # Compare the change in value function\n",
                "        # End the loop if the change is lower than the threshold\n",
                "        if (np.sum((np.fabs(updated_value_table - value_table))) \u003c= threshold):\n",
                "            break\n",
                "            \n",
                "    # Return the value table\n",
                "    return value_table\n",
                ""
            ]
        },
        {
            "attachments": {},
            "cell_type": "markdown",
            "metadata": {},
            "source": [
                "### **POLICY IMPROVEMENT**\n",
                "\u003cimg src=\"./images/policy_improv.png\" alt=\"Policy Improvement\" style=\"width:700px\"\u003e"
            ]
        },
        {
            "cell_type": "code",
            "execution_count": 33,
            "metadata": {},
            "outputs": [],
            "source": [
                "# Function to extract the optimal policy based on the optimal value function\n",
                "# The function takes as input the value table and the discount factor\n",
                "\n",
                "def policy_improvement(value_table, gamma = 1.0):\n",
                " \n",
                "    # Initialize the policy with zeros\n",
                "    # The size of the policy is equivalent to the number of states\n",
                "    policy = np.zeros(env.observation_space.n) \n",
                "    \n",
                "    # Loop for each state \n",
                "    for state in range(env.observation_space.n):\n",
                "        \n",
                "        # Initialize the Q table for a state\n",
                "        # with zeroes and the number of possible actions\n",
                "        Q_table = np.zeros(env.action_space.n)\n",
                "        \n",
                "        # Loop for each action\n",
                "        for action in range(env.action_space.n):\n",
                "            \n",
                "            # For the given state and action, loop over the next states\n",
                "            for next_sr in env.P[state][action]: \n",
                "                \n",
                "                # Get the transition probability, next state, reward from the the environment\n",
                "                trans_prob, next_state, reward, _ = next_sr \n",
                "                \n",
                "                # Update the q-table the particular action based on the equation in the instructions\n",
                "                Q_table[action] += (trans_prob * (reward + gamma * value_table[next_state]))\n",
                "        \n",
                "        # Select the action which has maximum Q value as an optimal action of the state\n",
                "        policy[state] = np.argmax(Q_table)\n",
                "    \n",
                "    # Return the policy\n",
                "    return policy\n",
                ""
            ]
        },
        {
            "attachments": {},
            "cell_type": "markdown",
            "metadata": {},
            "source": [
                "### **POLICY ITERATION**\n",
                "\u003cimg src=\"./images/policy_iter.png\" alt=\"Policy Iteration\" style=\"width:700px\"\u003e"
            ]
        },
        {
            "cell_type": "code",
            "execution_count": 38,
            "metadata": {},
            "outputs": [],
            "source": [
                "# Function to perform policy iteration\n",
                "# This function takes the environment and discount factor\n",
                "\n",
                "def policy_iteration(env,gamma = 1.0):\n",
                "    \n",
                "    # Initialize policy with zeros for the dimension of the number of state\n",
                "    old_policy = np.zeros(env.observation_space.n)  \n",
                "    \n",
                "    # Specify the number of iterations\n",
                "    no_of_iterations = 200\n",
                "    \n",
                "    # Loop over the number of iterations\n",
                "    for i in range(no_of_iterations):\n",
                "        \n",
                "        # Compute the value function calling the policy_evaluation \n",
                "        # by passing the policy and discount factor\n",
                "        new_value_function = policy_evaluation(old_policy, gamma)\n",
                "        \n",
                "        # Extract the new policy by calling the policy_improvement function with the \n",
                "        # new value function and the discount factor\n",
                "        new_policy = policy_improvement(new_value_function, gamma)\n",
                "   \n",
                "        # Check whether we have reached convergence i.e whether we found the optimal\n",
                "        # policy by comparing old_policy and new policy.\n",
                "        # If the policies are the same, break the loop, else update the old policy\n",
                "\n",
                "        if (np.all(old_policy == new_policy)):\n",
                "            print ('Policy-Iteration converged at step %d.' %(i+1))\n",
                "            break\n",
                "        old_policy = new_policy\n",
                "        \n",
                "    return new_policy\n",
                "\n",
                ""
            ]
        },
        {
            "cell_type": "code",
            "execution_count": 39,
            "metadata": {},
            "outputs": [
                {
                    "name": "stdout",
                    "output_type": "stream",
                    "text": "Policy-Iteration converged at step 3.\n[0. 0. 0. 0. 0. 0. 0. 0. 0. 0. 0. 0. 0. 1. 1. 0.]\n"
                }
            ],
            "source": [
                "# Call the policy_iteration function by passing the environment as a parameter\n",
                "print (policy_iteration(env, 0.9))"
            ]
        }
    ]
}
